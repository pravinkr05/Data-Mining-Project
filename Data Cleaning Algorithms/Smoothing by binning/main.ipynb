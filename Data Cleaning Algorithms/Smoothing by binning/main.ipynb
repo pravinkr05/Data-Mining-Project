import numpy as np

# Example dataset
data = np.array([5, 7, 8, 10, 12, 15, 20, 25, 30, 40, 45])

# Step 1: Sort the array
data_sorted = np.sort(data)

# Step 2: Define the number of bins
num_bins = 3

# Step 3: Calculate the bin width
bin_width = (data_sorted[-1] - data_sorted[0]) / num_bins

# Step 4: Print each bin
bin_start = 0
bin_end = 0
print("Bins:")
for i in range(num_bins):
    bin_start = bin_end
    bin_end = bin_start + bin_width
    if i == num_bins-1:
      bin_end = data_sorted[-1] + 1
    bin_values = data_sorted[(data_sorted >= bin_start) & (data_sorted < bin_end)]
    print("Bin", i+1, ":", bin_values)

# Step 5: Apply smoothing by mean within each bin and Print each bin with smoothed values
bin_start = 0
bin_end = 0
# Initialize empty lists to store smoothed bin values
smoothed_bins_mean = []
smoothed_bins_median = []
smoothed_bins_boundary = []

print("\nBins after Smoothing by Mean, Median and Boundaries:")
smoothed_index_mean = 0
smoothed_index_median = 0
smoothed_index_boundary = 0
for i in range(num_bins):
    bin_start = bin_end
    bin_end = bin_start + bin_width
    if i == num_bins-1:
        bin_end = data_sorted[-1] + 1
    bin_values = data_sorted[(data_sorted >= bin_start) & (data_sorted < bin_end)]
    

        # Calculate the mean of the data points in the bin
    mean = np.mean(bin_values)
    
    # Calculate the median of the data points in the bin
    median = np.median(bin_values)
    
    # Smooth by mean: Extend the smoothed list with the mean value repeated for the number of data points in the bin
    smoothed_bins_mean.extend([mean] * len(bin_values))
    
    # Smooth by median: Extend the smoothed list with the median value repeated for the number of data points in the bin
    smoothed_bins_median.extend([median] * len(bin_values))
    
    # Smooth by boundaries: Extend the smoothed list with the boundary value clipped within the bin range
    # Calculate the lower and upper boundaries of the bin
    lower_boundary = bin_values.min()
    upper_boundary = bin_values.max()
    
    # Iterate through each value in the bin to determine the smoothed value based on boundaries
    smoothed_group = []
    for value in bin_values:
        diff_lower = value - lower_boundary
        diff_upper = upper_boundary - value
        # Replace the current value with the nearest boundary value
        if diff_lower < diff_upper:
            smoothed_group.append(lower_boundary)
        else:
            smoothed_group.append(upper_boundary)
    
    # Extend the smoothed list with the boundary smoothed values
    smoothed_bins_boundary.extend(smoothed_group)

    # Smoothing by Mean
    smoothed_values_mean = smoothed_bins_mean[smoothed_index_mean:smoothed_index_mean+len(bin_values)]
    smoothed_index_mean += len(bin_values)
    
    # Smoothing by Median
    smoothed_values_median = smoothed_bins_median[smoothed_index_median:smoothed_index_median+len(bin_values)]
    smoothed_index_median += len(bin_values)
    
    # Smoothing by Boundaries
    smoothed_values_boundary = smoothed_bins_boundary[smoothed_index_boundary:smoothed_index_boundary+len(bin_values)]
    smoothed_index_boundary += len(bin_values)
    
    print("Bin", i+1, "(Mean):", smoothed_values_mean)
    print("Bin", i+1, "(Median):", smoothed_values_median)
    print("Bin", i+1, "(Boundary):", smoothed_values_boundary)
    print("\n")


