{
  "nbformat": 4,
  "nbformat_minor": 0,
  "metadata": {
    "colab": {
      "provenance": [],
      "authorship_tag": "ABX9TyNusM68GNWLgWvQUpmxmMPw",
      "include_colab_link": true
    },
    "kernelspec": {
      "name": "python3",
      "display_name": "Python 3"
    },
    "language_info": {
      "name": "python"
    }
  },
  "cells": [
    {
      "cell_type": "markdown",
      "metadata": {
        "id": "view-in-github",
        "colab_type": "text"
      },
      "source": [
        "<a href=\"https://colab.research.google.com/github/pravinkr05/Data-Mining-Project/blob/main/KNN.ipynb\" target=\"_parent\"><img src=\"https://colab.research.google.com/assets/colab-badge.svg\" alt=\"Open In Colab\"/></a>"
      ]
    },
    {
      "cell_type": "markdown",
      "source": [
        "The steps of the K-Nearest Neighbors (KNN) algorithm:\n",
        "\n",
        "1. **Choose K**: Determine the number of neighbors (K) to consider.\n",
        "2. **Calculate Distance**: Measure the distance between the query point and all points in the dataset. Common distance metrics include Euclidean distance, Manhattan distance, etc.\n",
        "3. **Find Neighbors**: Identify the K nearest neighbors based on the calculated distances.\n",
        "4. **Vote or Average**: For classification, let the K nearest neighbors \"vote\" for the class of the query point. For regression, take the average of the target values of the K nearest neighbors.\n",
        "5. **Predict**: Assign the class label (for classification) or the predicted value (for regression) based on the votes or averages.\n",
        "6. **Repeat**: Repeat the process for new query points."
      ],
      "metadata": {
        "id": "s1LbGOKnqRmP"
      }
    },
    {
      "cell_type": "markdown",
      "source": [
        "Let's consider a simple example to illustrate the K-Nearest Neighbors (KNN) algorithm for classification:\n",
        "\n",
        "Suppose we have a dataset of animals with two features: weight and height, and their corresponding labels indicating whether they are \"cat\" or \"dog\".\n",
        "\n",
        "| Weight (kg) | Height (cm) | Label  |\n",
        "|-------------|-------------|--------|\n",
        "| 5           | 25          | Cat    |\n",
        "| 8           | 30          | Cat    |\n",
        "| 7           | 40          | Dog    |\n",
        "| 10          | 35          | Dog    |\n",
        "\n",
        "Now, let's say we have a new animal with weight 9 kg and height 33 cm, and we want to classify it as either a cat or a dog using the KNN algorithm with K=3.\n",
        "\n",
        "1. **Choose K**: Let's choose K=3.\n",
        "2. **Calculate Distance**: Calculate the Euclidean distance between the new animal and each of the animals in the dataset.\n",
        "   - Distance from (9, 33) to (5, 25) = sqrt((9-5)^2 + (33-25)^2) = sqrt(16 + 64) = 8.94\n",
        "   - Distance from (9, 33) to (8, 30) = sqrt((9-8)^2 + (33-30)^2) = sqrt(1 + 9) = 3.16\n",
        "   - Distance from (9, 33) to (7, 40) = sqrt((9-7)^2 + (33-40)^2) = sqrt(4 + 49) = 7.81\n",
        "   - Distance from (9, 33) to (10, 35) = sqrt((9-10)^2 + (33-35)^2) = sqrt(1 + 4) = 2.24\n",
        "3. **Find Neighbors**: Choose the 3 nearest neighbors based on the calculated distances: (8, 30), (10, 35), and (5, 25).\n",
        "4. **Vote**: Since K=3, we have three neighbors. Two of them are labeled as \"Cat\" and one is labeled as \"Dog\".\n",
        "5. **Predict**: Based on the majority vote, we predict that the new animal is a \"Cat\".\n",
        "\n",
        "So, according to the KNN algorithm, the new animal is classified as a \"Cat\".\n"
      ],
      "metadata": {
        "id": "vsJNGHZBqdoJ"
      }
    },
    {
      "cell_type": "code",
      "execution_count": 2,
      "metadata": {
        "colab": {
          "base_uri": "https://localhost:8080/"
        },
        "id": "1VTF9rLIqDkq",
        "outputId": "b05b3e3d-a816-44ab-e99b-6460bde570c0"
      },
      "outputs": [
        {
          "output_type": "stream",
          "name": "stdout",
          "text": [
            "Regression Predictions: [15. 35.]\n"
          ]
        }
      ],
      "source": [
        "#  In regression, we aim to predict a continuous value based on the input features\n",
        "import numpy as np\n",
        "\n",
        "# Step 1: Define the KNN Regression class\n",
        "class KNNRegressor:\n",
        "    def __init__(self, k=5):\n",
        "        self.k = k\n",
        "\n",
        "    # Step 2: Fit the model with training data\n",
        "    def fit(self, X_train, y_train):\n",
        "        self.X_train = X_train  # Training features\n",
        "        self.y_train = y_train  # Corresponding target values\n",
        "\n",
        "    # Step 3: Make predictions on test data\n",
        "    def predict(self, X_test):\n",
        "        predictions = []\n",
        "        for x in X_test:\n",
        "            # Step 4: Calculate distances between test point and all training points\n",
        "            distances = np.sqrt(np.sum((self.X_train - x)**2, axis=1))\n",
        "            # Step 5: Find the indices of k nearest neighbors\n",
        "            nearest_indices = np.argsort(distances)[:self.k]\n",
        "            # Step 6: Use the average of the target values of the k nearest neighbors as prediction\n",
        "            nearest_neighbors = self.y_train[nearest_indices]\n",
        "            prediction = np.mean(nearest_neighbors)\n",
        "            predictions.append(prediction)\n",
        "        return np.array(predictions)\n",
        "\n",
        "# Example usage for regression\n",
        "X_train_regression = np.array([[1, 2], [3, 4], [5, 6], [7, 8]])\n",
        "y_train_regression = np.array([10, 20, 30, 40])\n",
        "X_test_regression = np.array([[2, 3], [6, 7]])\n",
        "\n",
        "# Step 7: Create an instance of KNNRegressor and fit the model\n",
        "knn_regressor = KNNRegressor(k=2)\n",
        "knn_regressor.fit(X_train_regression, y_train_regression)\n",
        "\n",
        "# Step 8: Make predictions on test data\n",
        "predictions_regression = knn_regressor.predict(X_test_regression)\n",
        "print(\"Regression Predictions:\", predictions_regression)\n"
      ]
    },
    {
      "cell_type": "code",
      "source": [
        "# In classification, we aim to predict discrete class labels based on the input features.\n",
        "from collections import Counter\n",
        "import numpy as np\n",
        "\n",
        "# Step 1: Define the KNN Classification class\n",
        "class KNNClassifier:\n",
        "    def __init__(self, k=5):\n",
        "        self.k = k\n",
        "\n",
        "    # Step 2: Fit the model with training data\n",
        "    def fit(self, X_train, y_train):\n",
        "        self.X_train = X_train  # Training features\n",
        "        self.y_train = y_train  # Corresponding class labels\n",
        "\n",
        "    # Step 3: Make predictions on test data\n",
        "    def predict(self, X_test):\n",
        "        predictions = []\n",
        "        for x in X_test:\n",
        "            # Step 4: Calculate distances between test point and all training points\n",
        "            distances = np.sqrt(np.sum((self.X_train - x)**2, axis=1))\n",
        "            # Step 5: Find the indices of k nearest neighbors\n",
        "            nearest_indices = np.argsort(distances)[:self.k]\n",
        "            # Step 6: Count the occurrences of each class label among the k nearest neighbors\n",
        "            nearest_labels = self.y_train[nearest_indices]\n",
        "            # Step 7: Predict the class label with the most occurrences\n",
        "            most_common_label = Counter(nearest_labels).most_common(1)[0][0]\n",
        "            predictions.append(most_common_label)\n",
        "        return np.array(predictions)\n",
        "\n",
        "# Example usage for classification\n",
        "X_train_classification = np.array([[1, 2], [2, 3], [3, 4], [4, 5]])\n",
        "y_train_classification = np.array([0, 0, 1, 1])\n",
        "X_test_classification = np.array([[1.5, 2.5], [3.5, 4.5]])\n",
        "\n",
        "# Step 8: Create an instance of KNNClassifier and fit the model\n",
        "knn_classifier = KNNClassifier(k=3)\n",
        "knn_classifier.fit(X_train_classification, y_train_classification)\n",
        "\n",
        "# Step 9: Make predictions on test data\n",
        "predictions_classification = knn_classifier.predict(X_test_classification)\n",
        "print(\"Classification Predictions:\", predictions_classification)\n"
      ],
      "metadata": {
        "colab": {
          "base_uri": "https://localhost:8080/"
        },
        "id": "iMPZHJYpqJeK",
        "outputId": "cabccf42-6f3f-4ad7-84ff-f2eee7044e65"
      },
      "execution_count": 4,
      "outputs": [
        {
          "output_type": "stream",
          "name": "stdout",
          "text": [
            "Classification Predictions: [0 1]\n"
          ]
        }
      ]
    }
  ]
}
